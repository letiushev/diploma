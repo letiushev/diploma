{
 "cells": [
  {
   "attachments": {},
   "cell_type": "markdown",
   "metadata": {},
   "source": [
    "Import necessary libraries"
   ]
  },
  {
   "cell_type": "code",
   "execution_count": 1,
   "metadata": {},
   "outputs": [
    {
     "name": "stderr",
     "output_type": "stream",
     "text": [
      "c:\\Users\\Nikki\\AppData\\Local\\Programs\\Python\\Python310\\lib\\site-packages\\tqdm\\auto.py:21: TqdmWarning: IProgress not found. Please update jupyter and ipywidgets. See https://ipywidgets.readthedocs.io/en/stable/user_install.html\n",
      "  from .autonotebook import tqdm as notebook_tqdm\n"
     ]
    },
    {
     "data": {
      "text/plain": [
       "device(type='cpu')"
      ]
     },
     "execution_count": 1,
     "metadata": {},
     "output_type": "execute_result"
    }
   ],
   "source": [
    "import torch\n",
    "from transformers import BertModel, BertTokenizer\n",
    "from torch import nn\n",
    "from torch.utils.data import Dataset, DataLoader\n",
    "device = torch.device(\"cuda:0\" if torch.cuda.is_available() else \"cpu\")\n",
    "device"
   ]
  },
  {
   "attachments": {},
   "cell_type": "markdown",
   "metadata": {},
   "source": [
    "Global parameters"
   ]
  },
  {
   "cell_type": "code",
   "execution_count": 2,
   "metadata": {},
   "outputs": [],
   "source": [
    "PRE_TRAINED_MODEL_NAME = \"bert-base-uncased\"\n",
    "MAX_LEN = 128\n",
    "category_names = ['programming','business','health','marketing','politics','sports']\n",
    "conn_string = \"host='localhost' dbname='postgres' user='postgres' password='12345'\"\n",
    "text_list = []\n",
    "category_list = []\n",
    "department_list = []"
   ]
  },
  {
   "attachments": {},
   "cell_type": "markdown",
   "metadata": {},
   "source": [
    "Global functions"
   ]
  },
  {
   "cell_type": "code",
   "execution_count": 3,
   "metadata": {},
   "outputs": [],
   "source": [
    "class CategoryClassifier(nn.Module):\n",
    "\n",
    "  def __init__(self, n_classes):\n",
    "    super(CategoryClassifier, self).__init__()\n",
    "    self.bert = BertModel.from_pretrained(PRE_TRAINED_MODEL_NAME)\n",
    "    self.drop = nn.Dropout(p=0.3)\n",
    "    self.out = nn.Linear(self.bert.config.hidden_size, n_classes)\n",
    "  \n",
    "  def forward(self, input_ids, attention_mask):\n",
    "        outputs = self.bert(\n",
    "            input_ids=input_ids,\n",
    "            attention_mask=attention_mask\n",
    "        )\n",
    "        pooled_output = outputs.pooler_output\n",
    "        output = self.drop(pooled_output)\n",
    "        return self.out(output)\n",
    "\n",
    "class MyDataset(Dataset):\n",
    "\n",
    "  def __init__(self, reviews, targets, tokenizer, max_len):\n",
    "    self.reviews = reviews\n",
    "    self.targets = targets\n",
    "    self.tokenizer = tokenizer\n",
    "    self.max_len = max_len\n",
    "  \n",
    "  def __len__(self):\n",
    "    return len(self.reviews)\n",
    "  \n",
    "  def __getitem__(self, item):\n",
    "    review = str(self.reviews[item])\n",
    "    target = self.targets[item]\n",
    "\n",
    "    encoding = self.tokenizer.encode_plus(\n",
    "      review,\n",
    "      add_special_tokens=True,\n",
    "      max_length=self.max_len,\n",
    "      truncation=True,\n",
    "      return_token_type_ids=False,\n",
    "      padding='max_length',\n",
    "      return_attention_mask=True,\n",
    "      return_tensors='pt',\n",
    "    )\n",
    "\n",
    "    return {\n",
    "      'review_text': review,\n",
    "      'input_ids': encoding['input_ids'].flatten(),\n",
    "      'attention_mask': encoding['attention_mask'].flatten(),\n",
    "      'targets': torch.tensor(target, dtype=torch.long)\n",
    "    }\n",
    "\n",
    "def create_data_loader(df, tokenizer, max_len, batch_size):\n",
    "  ds = MyDataset(\n",
    "    reviews=df.stemmed_text.to_numpy(),\n",
    "    targets=df.category_id.to_numpy(),\n",
    "    tokenizer=tokenizer,\n",
    "    max_len=max_len\n",
    "  )\n",
    "\n",
    "  return DataLoader(\n",
    "    ds,\n",
    "    batch_size=batch_size,\n",
    "    num_workers=4\n",
    "  )\n",
    "\n",
    "def department_name(category):\n",
    "   if category == 'programming':\n",
    "      return 'Information Technology'\n",
    "   if category == 'business' or category == 'politics':\n",
    "      return 'Business and Public Affairs'\n",
    "   if category == 'health':\n",
    "      return 'Healthcare Services'\n",
    "   if category == 'marketing':\n",
    "      return 'Marketing'\n",
    "   if category == 'sports':\n",
    "      return 'Sports Division'"
   ]
  },
  {
   "attachments": {},
   "cell_type": "markdown",
   "metadata": {},
   "source": [
    "Category classifier model loading"
   ]
  },
  {
   "cell_type": "code",
   "execution_count": 4,
   "metadata": {},
   "outputs": [
    {
     "name": "stderr",
     "output_type": "stream",
     "text": [
      "Some weights of the model checkpoint at bert-base-uncased were not used when initializing BertModel: ['cls.predictions.decoder.weight', 'cls.predictions.bias', 'cls.seq_relationship.bias', 'cls.seq_relationship.weight', 'cls.predictions.transform.dense.bias', 'cls.predictions.transform.LayerNorm.bias', 'cls.predictions.transform.dense.weight', 'cls.predictions.transform.LayerNorm.weight']\n",
      "- This IS expected if you are initializing BertModel from the checkpoint of a model trained on another task or with another architecture (e.g. initializing a BertForSequenceClassification model from a BertForPreTraining model).\n",
      "- This IS NOT expected if you are initializing BertModel from the checkpoint of a model that you expect to be exactly identical (initializing a BertForSequenceClassification model from a BertForSequenceClassification model).\n"
     ]
    }
   ],
   "source": [
    "# create the model object\n",
    "model = CategoryClassifier(6)\n",
    "\n",
    "# load the saved state dictionary\n",
    "if torch.cuda.is_available():\n",
    "    state_dict = torch.load('prod/best_model_state.bin')\n",
    "else:\n",
    "    state_dict = torch.load('prod/best_model_state.bin', map_location=torch.device('cpu'))\n",
    "model.load_state_dict(state_dict)\n",
    "\n",
    "# move the model to the device\n",
    "model = model.to(device)\n",
    "\n",
    "tokenizer = BertTokenizer.from_pretrained(PRE_TRAINED_MODEL_NAME)"
   ]
  },
  {
   "attachments": {},
   "cell_type": "markdown",
   "metadata": {},
   "source": [
    "Connection to the input text database and getting input data"
   ]
  },
  {
   "cell_type": "code",
   "execution_count": 5,
   "metadata": {},
   "outputs": [],
   "source": [
    "import psycopg2\n",
    "\n",
    "# create a connection object\n",
    "conn = psycopg2.connect(conn_string)\n",
    "\n",
    "# create a cursor object\n",
    "cur = conn.cursor()\n",
    "\n",
    "# execute a query\n",
    "cur.execute(\"SELECT text FROM calls_data\")\n",
    "\n",
    "# fetch the query results\n",
    "rows = cur.fetchall()\n",
    "# print the rows\n",
    "for row in rows:\n",
    "    input_text = row[0]\n",
    "    text_list.append(row[0])\n",
    "\n",
    "# close the cursor and connection\n",
    "cur.close()\n",
    "conn.close()\n"
   ]
  },
  {
   "attachments": {},
   "cell_type": "markdown",
   "metadata": {},
   "source": [
    "Assign predicted category and responsible company department to each element of input text data"
   ]
  },
  {
   "cell_type": "code",
   "execution_count": 6,
   "metadata": {},
   "outputs": [
    {
     "name": "stdout",
     "output_type": "stream",
     "text": [
      "  Input text: As the global economy continues to recover from the impact of the COVID-19 pandemic, businesses are looking for new ways to grow and thrive in the post-pandemic world. With the rise of digital technologies and changing consumer preferences, companies must be agile and innovative to stay competitive. From leveraging data analytics to exploring new markets and partnerships, businesses must adapt quickly to meet the evolving needs of their customers. Those that can successfully navigate these challenges and seize new opportunities will be well-positioned for success in the years ahead.\n",
      "  Predicted category: business\n",
      "\n",
      "  Input text: Sports are an important part of many peoples lives and offer numerous benefits to those who participate in them. Engaging in sports can improve physical fitness, promote teamwork and social interaction, and provide a healthy outlet for stress relief.There are many different types of sports, each with its own unique set of rules and challenges. From team sports such as basketball, soccer, and volleyball, to individual sports like running, swimming, and tennis, there is something for everyone.In addition to the physical benefits, sports also offer a sense of camaraderie and community among players and fans alike. Many people form lasting friendships through sports, while others enjoy the competitive aspect of the games.Watching sports can be just as exciting as playing them, with fans cheering on their favorite teams and athletes from around the world. Major sporting events, such as the Olympics and the World Cup, bring people together from all corners of the globe to celebrate the best in athletic competition.\n",
      "  Predicted category: sports\n",
      "\n",
      "  Input text: Hello, this is the marketing recruiter calling from XYZ Company. Im excited to speak with you today about a potential opportunity to join our marketing team.As you may already know, marketing is a vital aspect of any successful business. At XYZ Company, our marketing team plays a key role in driving sales, building brand awareness, and creating engaging content for our customers. We are looking for talented individuals who are passionate about marketing and ready to take on new challenges.One area where we are currently seeking to expand our team is in our call center. As a member of our call center marketing team, you will have the opportunity to interact with customers directly, answering their questions, addressing their concerns, and promoting our products and services.We are looking for individuals who have excellent communication skills, a friendly and outgoing personality, and the ability to think on their feet. Previous experience in a call center or customer service environment is a plus, but not required. We will provide comprehensive training to help you excel in this role.If youre interested in joining our marketing team and have a passion for customer service and sales, please dont hesitate to reach out. We look forward to hearing from you soon.\n",
      "  Predicted category: marketing\n",
      "\n",
      "  Input text: Hello, my name is Bob and I am experiencing some issues with my PC, Windows, Microsoft Teams, and Outlook. Firstly, I am having trouble with my PC. It is running quite slow and taking a long time to start up. I have tried running various anti-virus and anti-malware software but it hasnt helped. Im not sure what else I can do to improve its performance.Secondly, I am having trouble with my Windows operating system. Some of my applications are crashing unexpectedly, and I am unable to update my system. I have tried troubleshooting the issue, but I havent been successful in resolving it. Thirdly, I am experiencing some problems with Microsoft Teams. I am unable to join some of my scheduled meetings and I am getting error messages when I try to do so. It is affecting my productivity and I am not sure what the issue is.Lastly, I am having issues with Outlook. I am unable to receive emails on my account and I have tried checking my settings but nothing seems to be working. It is causing me a lot of inconvenience as I am unable to keep up with my work emails.I would greatly appreciate it if you could assist me with these issues. Thank you.\n",
      "  Predicted category: programming\n",
      "\n",
      "  Input text: Hello, I recently purchased some healthcare products from your company and I am having some issues with them. I was hoping to get some assistance in resolving these problems.Firstly, I am having trouble with the blood pressure monitor I purchased. It seems to be giving me inconsistent readings and I am not sure if it is functioning correctly. I would like to get some guidance on how to properly use the device and how to ensure that it is working correctly.Secondly, I have some concerns about the medication I purchased. I have been experiencing some side effects that were not mentioned in the information provided with the product. I would like to speak with someone who can provide me with more information about the medication and its potential side effects.Lastly, I am having trouble accessing my online healthcare account. I am not sure if it is an issue with my login credentials or if there is an issue with the website. I would appreciate some assistance in resolving this issue so that I can access my healthcare information online.Thank you for your time and I look forward to hearing back from you soon\n",
      "  Predicted category: health\n",
      "\n",
      "  Input text: Hello, I called because I want to learn more about your companys political policies. As a concerned citizen, I think its important to support companies that align with my political beliefs. Can you tell me more about the political stances of your company? Its important for me to know that the companies I support share my values and are actively working towards a better world.I also want to know how your company interacts with political candidates and parties. Do you donate to political campaigns or lobby for specific policies? I think its important to know where a companys political influence lies.Overall, I believe that companies have a responsibility to be socially and politically conscious. I want to make sure that the companies I support are doing their part to create a more just and equitable society. Can you provide me with more information on this?\n",
      "  Predicted category: business\n",
      "\n",
      "  Input text: Hello, I was wondering if I could ask for your opinion on football? Im a big fan of the sport and would love to hear what your company thinks about it.Personally, I think football is an amazing game that brings people together from all over the world. The way the players move the ball around the field is nothing short of art, and the energy and excitement of the crowds is simply electric. Its a great way to stay active and healthy, and it teaches important life skills like teamwork, leadership, and perseverance.Im curious to know if your company feels the same way about football. Do you have any partnerships or sponsorships with football teams or events? Do you offer any programs or services related to the sport?As a fan, I think it would be really cool to see your company get involved in football in some way. Its such a huge part of our culture and I think it could be a great opportunity for your company to connect with customers and make a positive impact in the community.So, what are your thoughts on football? I would love to hear your opinion. Thank you for your time.\n",
      "  Predicted category: sports\n",
      "\n",
      "  Input text: Hello, Im interested in purchasing stocks of your company on the market. Can you provide me with some information on how to go about this? Im fairly new to investing and I would appreciate some guidance.I understand that investing in stocks can be risky, but I have done my research and I believe that your company has strong potential for growth in the future. Im hoping to make a smart investment and support your company at the same time.Could you please advise me on how to purchase stocks of your company on the market? Are there any specific brokers or trading platforms that you recommend? I want to make sure that Im investing through a reputable and trustworthy source.Additionally, are there any fees or commissions associated with purchasing stocks of your company? I want to make sure that I fully understand the costs involved before making any decisions.Thank you for your time and assistance. I look forward to hearing back from you soon.\n",
      "  Predicted category: business\n",
      "\n"
     ]
    }
   ],
   "source": [
    "for i, text in enumerate(text_list):\n",
    "    encoded_text = tokenizer.encode_plus(\n",
    "      text,\n",
    "      add_special_tokens=True,\n",
    "      max_length=MAX_LEN,\n",
    "      truncation=True,\n",
    "      return_token_type_ids=False,\n",
    "      padding='max_length',\n",
    "      return_attention_mask=True,\n",
    "      return_tensors='pt',\n",
    "    )\n",
    "    input_ids = encoded_text['input_ids'].to(device)\n",
    "    attention_mask = encoded_text['attention_mask'].to(device)\n",
    "\n",
    "    output = model(input_ids, attention_mask)\n",
    "    _, prediction = torch.max(output, dim=1)\n",
    "    category_list.append(category_names[prediction])\n",
    "    department_list.append(department_name(category_list[i]))\n",
    "    print(f\"  Input text: {text}\")\n",
    "    print(f\"  Predicted category: {category_list[i]}\")\n",
    "    print(\"\")\n",
    "    "
   ]
  },
  {
   "attachments": {},
   "cell_type": "markdown",
   "metadata": {},
   "source": [
    "Push each input text with assigned to it category and company's department to the output database"
   ]
  },
  {
   "cell_type": "code",
   "execution_count": 7,
   "metadata": {},
   "outputs": [
    {
     "name": "stdout",
     "output_type": "stream",
     "text": [
      "Inserted values: \n",
      "    Text: As the global economy continues to recover from the impact of the COVID-19 pandemic, businesses are looking for new ways to grow and thrive in the post-pandemic world. With the rise of digital technologies and changing consumer preferences, companies must be agile and innovative to stay competitive. From leveraging data analytics to exploring new markets and partnerships, businesses must adapt quickly to meet the evolving needs of their customers. Those that can successfully navigate these challenges and seize new opportunities will be well-positioned for success in the years ahead.\n",
      "    Predicted category: business\n",
      "    Assigned department: Business and Public Affairs\n",
      "\n",
      "    Text: Sports are an important part of many peoples lives and offer numerous benefits to those who participate in them. Engaging in sports can improve physical fitness, promote teamwork and social interaction, and provide a healthy outlet for stress relief.There are many different types of sports, each with its own unique set of rules and challenges. From team sports such as basketball, soccer, and volleyball, to individual sports like running, swimming, and tennis, there is something for everyone.In addition to the physical benefits, sports also offer a sense of camaraderie and community among players and fans alike. Many people form lasting friendships through sports, while others enjoy the competitive aspect of the games.Watching sports can be just as exciting as playing them, with fans cheering on their favorite teams and athletes from around the world. Major sporting events, such as the Olympics and the World Cup, bring people together from all corners of the globe to celebrate the best in athletic competition.\n",
      "    Predicted category: sports\n",
      "    Assigned department: Sports Division\n",
      "\n",
      "    Text: Hello, this is the marketing recruiter calling from XYZ Company. Im excited to speak with you today about a potential opportunity to join our marketing team.As you may already know, marketing is a vital aspect of any successful business. At XYZ Company, our marketing team plays a key role in driving sales, building brand awareness, and creating engaging content for our customers. We are looking for talented individuals who are passionate about marketing and ready to take on new challenges.One area where we are currently seeking to expand our team is in our call center. As a member of our call center marketing team, you will have the opportunity to interact with customers directly, answering their questions, addressing their concerns, and promoting our products and services.We are looking for individuals who have excellent communication skills, a friendly and outgoing personality, and the ability to think on their feet. Previous experience in a call center or customer service environment is a plus, but not required. We will provide comprehensive training to help you excel in this role.If youre interested in joining our marketing team and have a passion for customer service and sales, please dont hesitate to reach out. We look forward to hearing from you soon.\n",
      "    Predicted category: marketing\n",
      "    Assigned department: Marketing\n",
      "\n",
      "    Text: Hello, my name is Bob and I am experiencing some issues with my PC, Windows, Microsoft Teams, and Outlook. Firstly, I am having trouble with my PC. It is running quite slow and taking a long time to start up. I have tried running various anti-virus and anti-malware software but it hasnt helped. Im not sure what else I can do to improve its performance.Secondly, I am having trouble with my Windows operating system. Some of my applications are crashing unexpectedly, and I am unable to update my system. I have tried troubleshooting the issue, but I havent been successful in resolving it. Thirdly, I am experiencing some problems with Microsoft Teams. I am unable to join some of my scheduled meetings and I am getting error messages when I try to do so. It is affecting my productivity and I am not sure what the issue is.Lastly, I am having issues with Outlook. I am unable to receive emails on my account and I have tried checking my settings but nothing seems to be working. It is causing me a lot of inconvenience as I am unable to keep up with my work emails.I would greatly appreciate it if you could assist me with these issues. Thank you.\n",
      "    Predicted category: programming\n",
      "    Assigned department: Information Technology\n",
      "\n",
      "    Text: Hello, I recently purchased some healthcare products from your company and I am having some issues with them. I was hoping to get some assistance in resolving these problems.Firstly, I am having trouble with the blood pressure monitor I purchased. It seems to be giving me inconsistent readings and I am not sure if it is functioning correctly. I would like to get some guidance on how to properly use the device and how to ensure that it is working correctly.Secondly, I have some concerns about the medication I purchased. I have been experiencing some side effects that were not mentioned in the information provided with the product. I would like to speak with someone who can provide me with more information about the medication and its potential side effects.Lastly, I am having trouble accessing my online healthcare account. I am not sure if it is an issue with my login credentials or if there is an issue with the website. I would appreciate some assistance in resolving this issue so that I can access my healthcare information online.Thank you for your time and I look forward to hearing back from you soon\n",
      "    Predicted category: health\n",
      "    Assigned department: Healthcare Services\n",
      "\n",
      "    Text: Hello, I called because I want to learn more about your companys political policies. As a concerned citizen, I think its important to support companies that align with my political beliefs. Can you tell me more about the political stances of your company? Its important for me to know that the companies I support share my values and are actively working towards a better world.I also want to know how your company interacts with political candidates and parties. Do you donate to political campaigns or lobby for specific policies? I think its important to know where a companys political influence lies.Overall, I believe that companies have a responsibility to be socially and politically conscious. I want to make sure that the companies I support are doing their part to create a more just and equitable society. Can you provide me with more information on this?\n",
      "    Predicted category: business\n",
      "    Assigned department: Business and Public Affairs\n",
      "\n",
      "    Text: Hello, I was wondering if I could ask for your opinion on football? Im a big fan of the sport and would love to hear what your company thinks about it.Personally, I think football is an amazing game that brings people together from all over the world. The way the players move the ball around the field is nothing short of art, and the energy and excitement of the crowds is simply electric. Its a great way to stay active and healthy, and it teaches important life skills like teamwork, leadership, and perseverance.Im curious to know if your company feels the same way about football. Do you have any partnerships or sponsorships with football teams or events? Do you offer any programs or services related to the sport?As a fan, I think it would be really cool to see your company get involved in football in some way. Its such a huge part of our culture and I think it could be a great opportunity for your company to connect with customers and make a positive impact in the community.So, what are your thoughts on football? I would love to hear your opinion. Thank you for your time.\n",
      "    Predicted category: sports\n",
      "    Assigned department: Sports Division\n",
      "\n",
      "    Text: Hello, Im interested in purchasing stocks of your company on the market. Can you provide me with some information on how to go about this? Im fairly new to investing and I would appreciate some guidance.I understand that investing in stocks can be risky, but I have done my research and I believe that your company has strong potential for growth in the future. Im hoping to make a smart investment and support your company at the same time.Could you please advise me on how to purchase stocks of your company on the market? Are there any specific brokers or trading platforms that you recommend? I want to make sure that Im investing through a reputable and trustworthy source.Additionally, are there any fees or commissions associated with purchasing stocks of your company? I want to make sure that I fully understand the costs involved before making any decisions.Thank you for your time and assistance. I look forward to hearing back from you soon.\n",
      "    Predicted category: business\n",
      "    Assigned department: Business and Public Affairs\n",
      "\n"
     ]
    }
   ],
   "source": [
    "# create a connection object\n",
    "conn = psycopg2.connect(conn_string)\n",
    "\n",
    "# create a cursor object\n",
    "cur = conn.cursor()\n",
    "\n",
    "print(\"Inserted values: \")\n",
    "for i, text in enumerate(text_list):\n",
    "    # define the SQL statement to insert the values\n",
    "    query = \"INSERT INTO categorized_data (text, category, department) VALUES (%s, %s, %s)\"\n",
    "    \n",
    "    # execute the SQL statement with the input_text and category values\n",
    "    cur.execute(query, (text, category_list[i], department_list[i]))\n",
    "    print(f\"    Text: {text}\")\n",
    "    print(f\"    Predicted category: {category_list[i]}\")\n",
    "    print(f\"    Assigned department: {department_list[i]}\")\n",
    "    print(\"\")\n",
    "\n",
    "# commit the changes to the database\n",
    "conn.commit()\n",
    "\n",
    "# close the cursor and connection objects\n",
    "cur.close()\n",
    "conn.close()"
   ]
  }
 ],
 "metadata": {
  "kernelspec": {
   "display_name": "Python 3",
   "language": "python",
   "name": "python3"
  },
  "language_info": {
   "codemirror_mode": {
    "name": "ipython",
    "version": 3
   },
   "file_extension": ".py",
   "mimetype": "text/x-python",
   "name": "python",
   "nbconvert_exporter": "python",
   "pygments_lexer": "ipython3",
   "version": "3.10.11"
  },
  "orig_nbformat": 4
 },
 "nbformat": 4,
 "nbformat_minor": 2
}
