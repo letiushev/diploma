{
 "cells": [
  {
   "cell_type": "code",
   "execution_count": 25,
   "metadata": {},
   "outputs": [],
   "source": [
    "import csv\n",
    "import joblib\n",
    "import pandas as pd\n",
    "import matplotlib.pyplot as plt\n",
    "\n",
    "\n",
    "from sklearn.feature_extraction.text import TfidfVectorizer\n",
    "from collections import Counter\n",
    "from sklearn.naive_bayes import MultinomialNB"
   ]
  },
  {
   "attachments": {},
   "cell_type": "markdown",
   "metadata": {},
   "source": [
    "Getting the most common tags"
   ]
  },
  {
   "cell_type": "code",
   "execution_count": 26,
   "metadata": {},
   "outputs": [],
   "source": [
    "# Read the CSV file and extract the tags column\n",
    "with open('medium_articles.csv', 'r',encoding=\"utf8\") as file:\n",
    "    reader = csv.DictReader(file)\n",
    "    tags = [row['tags'] for row in reader]\n",
    "    rows = list(reader)\n",
    "\n",
    "# Convert the tags lists to a flat list of all tags\n",
    "all_tags = [tag for tags_list in tags for tag in eval(tags_list)]\n",
    "\n",
    "# Get the 100 most common tags\n",
    "most_common_tags = [tag for tag, count in Counter(all_tags).most_common(100)]"
   ]
  },
  {
   "cell_type": "code",
   "execution_count": 27,
   "metadata": {},
   "outputs": [
    {
     "data": {
      "text/plain": [
       "['Blockchain',\n",
       " 'Data Science',\n",
       " 'Technology',\n",
       " 'Programming',\n",
       " 'Poetry',\n",
       " 'Cryptocurrency',\n",
       " 'Machine Learning',\n",
       " 'Life',\n",
       " 'Bitcoin',\n",
       " 'Writing',\n",
       " 'Politics',\n",
       " 'Startup',\n",
       " 'Life Lessons',\n",
       " 'Self Improvement',\n",
       " 'Covid 19',\n",
       " 'Software Development',\n",
       " 'Love',\n",
       " 'Python',\n",
       " 'Business',\n",
       " 'Health',\n",
       " 'Mental Health',\n",
       " 'JavaScript',\n",
       " 'Relationships',\n",
       " 'Education',\n",
       " 'Artificial Intelligence',\n",
       " 'Culture',\n",
       " 'Design',\n",
       " 'Self',\n",
       " 'Marketing',\n",
       " 'Entrepreneurship',\n",
       " 'Ethereum',\n",
       " 'Music',\n",
       " 'Productivity',\n",
       " 'Web Development',\n",
       " 'History',\n",
       " 'Humor',\n",
       " 'Data Visualization',\n",
       " 'Leadership',\n",
       " 'Social Media',\n",
       " 'Psychology',\n",
       " 'Travel',\n",
       " 'Fiction',\n",
       " 'Creativity',\n",
       " 'Coronavirus',\n",
       " 'Parenting',\n",
       " 'Crypto',\n",
       " 'Science',\n",
       " 'Tech',\n",
       " 'UX',\n",
       " 'Short Story',\n",
       " 'Money',\n",
       " 'Spirituality',\n",
       " 'Family',\n",
       " 'Work',\n",
       " 'Deep Learning',\n",
       " 'Christmas',\n",
       " 'Finance',\n",
       " 'News',\n",
       " 'Personal Development',\n",
       " 'Data',\n",
       " 'Art',\n",
       " 'Women',\n",
       " 'LGBTQ',\n",
       " 'Digital Marketing',\n",
       " 'Inspiration',\n",
       " 'Books',\n",
       " 'Philosophy',\n",
       " 'Investing',\n",
       " 'Coding',\n",
       " 'Climate Change',\n",
       " 'Movies',\n",
       " 'AI',\n",
       " 'Poem',\n",
       " 'Food',\n",
       " 'Religion',\n",
       " 'Christianity',\n",
       " 'Innovation',\n",
       " 'Software Engineering',\n",
       " 'Racism',\n",
       " 'Society',\n",
       " 'React',\n",
       " 'Feminism',\n",
       " 'Baby',\n",
       " 'Writing Tips',\n",
       " 'Mindfulness',\n",
       " 'Trump',\n",
       " 'Environment',\n",
       " 'Self-awareness',\n",
       " 'Lifestyle',\n",
       " 'Careers',\n",
       " 'Defi',\n",
       " 'Storytelling',\n",
       " 'Sports',\n",
       " 'Advice',\n",
       " 'Learning',\n",
       " 'Pandemic',\n",
       " 'Gaming',\n",
       " 'Poetry On Medium',\n",
       " 'Film',\n",
       " 'Motivation']"
      ]
     },
     "execution_count": 27,
     "metadata": {},
     "output_type": "execute_result"
    }
   ],
   "source": [
    "most_common_tags"
   ]
  },
  {
   "attachments": {},
   "cell_type": "markdown",
   "metadata": {},
   "source": [
    "Based on most common tags we select the 6 main ones by hand and with common sence that they are the most separated ones"
   ]
  },
  {
   "cell_type": "code",
   "execution_count": 28,
   "metadata": {},
   "outputs": [],
   "source": [
    "main_tags = ['programming','business','health','marketing','politics','sports']"
   ]
  },
  {
   "attachments": {},
   "cell_type": "markdown",
   "metadata": {},
   "source": [
    "From the dataset we select records which has any of the main tags which were selected previously and add these records to training data"
   ]
  },
  {
   "attachments": {},
   "cell_type": "markdown",
   "metadata": {},
   "source": [
    "If the record doesn't have main tags in it we add it to the prediction dataset"
   ]
  },
  {
   "cell_type": "code",
   "execution_count": 29,
   "metadata": {},
   "outputs": [
    {
     "name": "stdout",
     "output_type": "stream",
     "text": [
      "21835 records selected as training data\n",
      "170533 records selected as prediction data\n"
     ]
    }
   ],
   "source": [
    "# Read the CSV file and extract the tags column\n",
    "with open('medium_articles.csv', 'r', encoding=\"utf8\") as file:\n",
    "    reader = csv.DictReader(file)\n",
    "    rows = list(reader)\n",
    "\n",
    "# Split the tags into a list and convert to lowercase\n",
    "for row in rows:\n",
    "    row['tags'] = [tag.lower() for tag in eval(row['tags'])]\n",
    "\n",
    "# Filter the rows based on the tags\n",
    "training_data = [row for row in rows if any(tag in main_tags for tag in row['tags'])]\n",
    "prediction_data = [row for row in rows if not any(tag in main_tags for tag in row['tags'])]\n",
    "\n",
    "print(len(training_data), 'records selected as training data')\n",
    "print(len(prediction_data), 'records selected as prediction data')\n"
   ]
  },
  {
   "attachments": {},
   "cell_type": "markdown",
   "metadata": {},
   "source": [
    "We run Naive Bayes algorithm on the training data, we are using TfidfVectorizer as a vectorizer in order to increase the accuracy of the approach"
   ]
  },
  {
   "cell_type": "code",
   "execution_count": 30,
   "metadata": {},
   "outputs": [],
   "source": [
    "# Extract the tags and labels from the training data\n",
    "X_train = [' '.join(row['tags']) for row in training_data]\n",
    "Y_train = [list(set(row['tags']) & set(main_tags))[0] for row in training_data]\n",
    "\n",
    "# Vectorize the tags using the TfidfVectorizer\n",
    "vectorizer = TfidfVectorizer()\n",
    "X_train_tfidf = vectorizer.fit_transform(X_train)\n",
    "\n",
    "# Train a Naive Bayes classifier\n",
    "clf = MultinomialNB().fit(X_train_tfidf, Y_train)"
   ]
  },
  {
   "attachments": {},
   "cell_type": "markdown",
   "metadata": {},
   "source": [
    "We are saving trained classifier in order to use it later"
   ]
  },
  {
   "cell_type": "code",
   "execution_count": 31,
   "metadata": {},
   "outputs": [
    {
     "data": {
      "text/plain": [
       "['naive_bayes_tags_classifier.joblib']"
      ]
     },
     "execution_count": 31,
     "metadata": {},
     "output_type": "execute_result"
    }
   ],
   "source": [
    "# Save the classifier to a file\n",
    "joblib.dump(clf, 'naive_bayes_tags_classifier.joblib')"
   ]
  },
  {
   "attachments": {},
   "cell_type": "markdown",
   "metadata": {},
   "source": [
    "We are loading the saved classifier and run it to the whole dataset. The idea is the following: every element has tags column, now we run saved Bayes Classifier on this colum, in the input it has list of tags, in the output it predicts the most possible main tag from main tags list. We are saving the result in the new dataset"
   ]
  },
  {
   "cell_type": "code",
   "execution_count": 32,
   "metadata": {},
   "outputs": [],
   "source": [
    "# Load the saved classifier from a file\n",
    "clf = joblib.load('naive_bayes_tags_classifier.joblib')\n",
    "\n",
    "# Read the CSV file and extract the tags column\n",
    "with open('medium_articles.csv', 'r', encoding=\"utf8\") as file:\n",
    "    reader = csv.DictReader(file)\n",
    "    rows = list(reader)\n",
    "\n",
    "# Split the tags into a list and convert to lowercase\n",
    "for row in rows:\n",
    "    row['tags'] = [tag.lower() for tag in eval(row['tags'])]\n",
    "\n",
    "# Vectorize the tags using the TfidfVectorizer\n",
    "X = [' '.join(row['tags']) for row in rows]\n",
    "vectorizer = TfidfVectorizer()\n",
    "vectorizer.fit([' '.join(row['tags']) for row in training_data]) # fit the vectorizer on the training data\n",
    "X_tfidf = vectorizer.transform(X) # use transform to apply the same vectorizer to the input data\n",
    "\n",
    "# Predict the labels using the Naive Bayes classifier\n",
    "Y = clf.predict(X_tfidf)\n",
    "\n",
    "# Assign the predicted labels to a new column in the CSV file\n",
    "header = reader.fieldnames + ['main_tag']\n",
    "with open('medium_articles_predicted.csv', 'w', newline='', encoding=\"utf8\") as file:\n",
    "    writer = csv.DictWriter(file, fieldnames=header)\n",
    "    writer.writeheader()\n",
    "    for row, label in zip(rows, Y):\n",
    "        row['main_tag'] = label\n",
    "        writer.writerow(row)"
   ]
  },
  {
   "cell_type": "code",
   "execution_count": 33,
   "metadata": {},
   "outputs": [
    {
     "data": {
      "text/html": [
       "<div>\n",
       "<style scoped>\n",
       "    .dataframe tbody tr th:only-of-type {\n",
       "        vertical-align: middle;\n",
       "    }\n",
       "\n",
       "    .dataframe tbody tr th {\n",
       "        vertical-align: top;\n",
       "    }\n",
       "\n",
       "    .dataframe thead th {\n",
       "        text-align: right;\n",
       "    }\n",
       "</style>\n",
       "<table border=\"1\" class=\"dataframe\">\n",
       "  <thead>\n",
       "    <tr style=\"text-align: right;\">\n",
       "      <th></th>\n",
       "      <th>title</th>\n",
       "      <th>text</th>\n",
       "      <th>url</th>\n",
       "      <th>authors</th>\n",
       "      <th>timestamp</th>\n",
       "      <th>tags</th>\n",
       "      <th>main_tag</th>\n",
       "    </tr>\n",
       "  </thead>\n",
       "  <tbody>\n",
       "    <tr>\n",
       "      <th>1</th>\n",
       "      <td>Your Brain On Coronavirus</td>\n",
       "      <td>Your Brain On Coronavirus\\n\\nA guide to the cu...</td>\n",
       "      <td>https://medium.com/age-of-awareness/how-the-pa...</td>\n",
       "      <td>['Simon Spichak']</td>\n",
       "      <td>2020-09-23 22:10:17.126000+00:00</td>\n",
       "      <td>['mental health', 'coronavirus', 'science', 'p...</td>\n",
       "      <td>health</td>\n",
       "    </tr>\n",
       "    <tr>\n",
       "      <th>2</th>\n",
       "      <td>Mind Your Nose</td>\n",
       "      <td>Mind Your Nose\\n\\nHow smell training can chang...</td>\n",
       "      <td>https://medium.com/neodotlife/mind-your-nose-f...</td>\n",
       "      <td>[]</td>\n",
       "      <td>2020-10-10 20:17:37.132000+00:00</td>\n",
       "      <td>['biotechnology', 'neuroscience', 'brain', 'we...</td>\n",
       "      <td>health</td>\n",
       "    </tr>\n",
       "    <tr>\n",
       "      <th>3</th>\n",
       "      <td>The 4 Purposes of Dreams</td>\n",
       "      <td>Passionate about the synergy between science a...</td>\n",
       "      <td>https://medium.com/science-for-real/the-4-purp...</td>\n",
       "      <td>['Eshan Samaranayake']</td>\n",
       "      <td>2020-12-21 16:05:19.524000+00:00</td>\n",
       "      <td>['health', 'neuroscience', 'mental health', 'p...</td>\n",
       "      <td>health</td>\n",
       "    </tr>\n",
       "  </tbody>\n",
       "</table>\n",
       "</div>"
      ],
      "text/plain": [
       "                       title  \\\n",
       "1  Your Brain On Coronavirus   \n",
       "2             Mind Your Nose   \n",
       "3   The 4 Purposes of Dreams   \n",
       "\n",
       "                                                text  \\\n",
       "1  Your Brain On Coronavirus\\n\\nA guide to the cu...   \n",
       "2  Mind Your Nose\\n\\nHow smell training can chang...   \n",
       "3  Passionate about the synergy between science a...   \n",
       "\n",
       "                                                 url                 authors  \\\n",
       "1  https://medium.com/age-of-awareness/how-the-pa...       ['Simon Spichak']   \n",
       "2  https://medium.com/neodotlife/mind-your-nose-f...                      []   \n",
       "3  https://medium.com/science-for-real/the-4-purp...  ['Eshan Samaranayake']   \n",
       "\n",
       "                          timestamp  \\\n",
       "1  2020-09-23 22:10:17.126000+00:00   \n",
       "2  2020-10-10 20:17:37.132000+00:00   \n",
       "3  2020-12-21 16:05:19.524000+00:00   \n",
       "\n",
       "                                                tags main_tag  \n",
       "1  ['mental health', 'coronavirus', 'science', 'p...   health  \n",
       "2  ['biotechnology', 'neuroscience', 'brain', 'we...   health  \n",
       "3  ['health', 'neuroscience', 'mental health', 'p...   health  "
      ]
     },
     "execution_count": 33,
     "metadata": {},
     "output_type": "execute_result"
    }
   ],
   "source": [
    "df = pd.read_csv(\"medium_articles_predicted.csv\")\n",
    "df[1:4]"
   ]
  },
  {
   "attachments": {},
   "cell_type": "markdown",
   "metadata": {},
   "source": [
    "Remove unecessary columns, switch places remained ones and rename them"
   ]
  },
  {
   "cell_type": "code",
   "execution_count": 34,
   "metadata": {},
   "outputs": [],
   "source": [
    "# Remove column\n",
    "columns_to_remove = ['title', 'url', 'authors', 'timestamp', 'tags']\n",
    "df = df.drop(columns_to_remove, axis=1)\n",
    "\n",
    "# Switch columns places\n",
    "col1 = df['text']\n",
    "col2 = df['main_tag']\n",
    "df['text'] = col2\n",
    "df['main_tag'] = col1\n",
    "\n",
    "# Rename columns\n",
    "df = df.rename(columns={'text': 'category', 'main_tag': 'text'})\n",
    "\n",
    "# Save modified DataFrame to new CSV file\n",
    "df.to_csv('medium_articles_predicted.csv', index=False)"
   ]
  },
  {
   "cell_type": "code",
   "execution_count": 35,
   "metadata": {},
   "outputs": [
    {
     "data": {
      "text/html": [
       "<div>\n",
       "<style scoped>\n",
       "    .dataframe tbody tr th:only-of-type {\n",
       "        vertical-align: middle;\n",
       "    }\n",
       "\n",
       "    .dataframe tbody tr th {\n",
       "        vertical-align: top;\n",
       "    }\n",
       "\n",
       "    .dataframe thead th {\n",
       "        text-align: right;\n",
       "    }\n",
       "</style>\n",
       "<table border=\"1\" class=\"dataframe\">\n",
       "  <thead>\n",
       "    <tr style=\"text-align: right;\">\n",
       "      <th></th>\n",
       "      <th>category</th>\n",
       "      <th>text</th>\n",
       "    </tr>\n",
       "  </thead>\n",
       "  <tbody>\n",
       "    <tr>\n",
       "      <th>1</th>\n",
       "      <td>health</td>\n",
       "      <td>Your Brain On Coronavirus\\n\\nA guide to the cu...</td>\n",
       "    </tr>\n",
       "    <tr>\n",
       "      <th>2</th>\n",
       "      <td>health</td>\n",
       "      <td>Mind Your Nose\\n\\nHow smell training can chang...</td>\n",
       "    </tr>\n",
       "    <tr>\n",
       "      <th>3</th>\n",
       "      <td>health</td>\n",
       "      <td>Passionate about the synergy between science a...</td>\n",
       "    </tr>\n",
       "  </tbody>\n",
       "</table>\n",
       "</div>"
      ],
      "text/plain": [
       "  category                                               text\n",
       "1   health  Your Brain On Coronavirus\\n\\nA guide to the cu...\n",
       "2   health  Mind Your Nose\\n\\nHow smell training can chang...\n",
       "3   health  Passionate about the synergy between science a..."
      ]
     },
     "execution_count": 35,
     "metadata": {},
     "output_type": "execute_result"
    }
   ],
   "source": [
    "# read in the CSV file\n",
    "df = pd.read_csv('medium_articles_predicted.csv')\n",
    "df[1:4]"
   ]
  }
 ],
 "metadata": {
  "kernelspec": {
   "display_name": "Python 3",
   "language": "python",
   "name": "python3"
  },
  "language_info": {
   "codemirror_mode": {
    "name": "ipython",
    "version": 3
   },
   "file_extension": ".py",
   "mimetype": "text/x-python",
   "name": "python",
   "nbconvert_exporter": "python",
   "pygments_lexer": "ipython3",
   "version": "3.11.0"
  },
  "orig_nbformat": 4
 },
 "nbformat": 4,
 "nbformat_minor": 2
}
