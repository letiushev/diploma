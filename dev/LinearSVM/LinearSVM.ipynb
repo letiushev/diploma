{
  "cells": [
    {
      "cell_type": "code",
      "execution_count": 2,
      "metadata": {
        "gather": {
          "logged": 1680548200948
        },
        "jupyter": {
          "outputs_hidden": false,
          "source_hidden": false
        },
        "nteract": {
          "transient": {
            "deleting": false
          }
        }
      },
      "outputs": [
        {
          "name": "stdout",
          "output_type": "stream",
          "text": [
            "Collecting seaborn\n",
            "  Using cached seaborn-0.12.2-py3-none-any.whl (293 kB)\n",
            "Requirement already satisfied: numpy!=1.24.0,>=1.17 in /anaconda/envs/azureml_py310_sdkv2/lib/python3.10/site-packages (from seaborn) (1.24.1)\n",
            "Requirement already satisfied: pandas>=0.25 in /anaconda/envs/azureml_py310_sdkv2/lib/python3.10/site-packages (from seaborn) (1.5.2)\n",
            "Requirement already satisfied: matplotlib!=3.6.1,>=3.1 in /anaconda/envs/azureml_py310_sdkv2/lib/python3.10/site-packages (from seaborn) (3.6.3)\n",
            "Requirement already satisfied: pyparsing>=2.2.1 in /anaconda/envs/azureml_py310_sdkv2/lib/python3.10/site-packages (from matplotlib!=3.6.1,>=3.1->seaborn) (3.0.9)\n",
            "Requirement already satisfied: python-dateutil>=2.7 in /anaconda/envs/azureml_py310_sdkv2/lib/python3.10/site-packages (from matplotlib!=3.6.1,>=3.1->seaborn) (2.8.2)\n",
            "Requirement already satisfied: cycler>=0.10 in /anaconda/envs/azureml_py310_sdkv2/lib/python3.10/site-packages (from matplotlib!=3.6.1,>=3.1->seaborn) (0.11.0)\n",
            "Requirement already satisfied: fonttools>=4.22.0 in /anaconda/envs/azureml_py310_sdkv2/lib/python3.10/site-packages (from matplotlib!=3.6.1,>=3.1->seaborn) (4.38.0)\n",
            "Requirement already satisfied: contourpy>=1.0.1 in /anaconda/envs/azureml_py310_sdkv2/lib/python3.10/site-packages (from matplotlib!=3.6.1,>=3.1->seaborn) (1.0.7)\n",
            "Requirement already satisfied: pillow>=6.2.0 in /anaconda/envs/azureml_py310_sdkv2/lib/python3.10/site-packages (from matplotlib!=3.6.1,>=3.1->seaborn) (9.4.0)\n",
            "Requirement already satisfied: kiwisolver>=1.0.1 in /anaconda/envs/azureml_py310_sdkv2/lib/python3.10/site-packages (from matplotlib!=3.6.1,>=3.1->seaborn) (1.4.4)\n",
            "Requirement already satisfied: packaging>=20.0 in /anaconda/envs/azureml_py310_sdkv2/lib/python3.10/site-packages (from matplotlib!=3.6.1,>=3.1->seaborn) (21.3)\n",
            "Requirement already satisfied: pytz>=2020.1 in /anaconda/envs/azureml_py310_sdkv2/lib/python3.10/site-packages (from pandas>=0.25->seaborn) (2022.7.1)\n",
            "Requirement already satisfied: six>=1.5 in /anaconda/envs/azureml_py310_sdkv2/lib/python3.10/site-packages (from python-dateutil>=2.7->matplotlib!=3.6.1,>=3.1->seaborn) (1.16.0)\n",
            "Installing collected packages: seaborn\n",
            "Successfully installed seaborn-0.12.2\n",
            "Note: you may need to restart the kernel to use updated packages.\n"
          ]
        }
      ],
      "source": [
        "pip install seaborn"
      ]
    },
    {
      "cell_type": "code",
      "execution_count": 3,
      "metadata": {
        "gather": {
          "logged": 1680548213933
        }
      },
      "outputs": [],
      "source": [
        "import pandas as pd\n",
        "import seaborn as sns\n",
        "import matplotlib.pyplot as plt\n",
        "import pickle\n",
        "\n",
        "from sklearn.feature_extraction.text import TfidfVectorizer\n",
        "from sklearn.model_selection import train_test_split\n",
        "from sklearn.svm import LinearSVC\n",
        "from sklearn.metrics import confusion_matrix, classification_report\n"
      ]
    },
    {
      "cell_type": "markdown",
      "metadata": {
        "nteract": {
          "transient": {
            "deleting": false
          }
        }
      },
      "source": [
        "Now we would like to run simple Linear SVM with TfidfVectorizer in it in order to study the results of this simple NLP algorithm"
      ]
    },
    {
      "cell_type": "code",
      "execution_count": 4,
      "metadata": {
        "gather": {
          "logged": 1680548273243
        },
        "jupyter": {
          "outputs_hidden": false,
          "source_hidden": false
        },
        "nteract": {
          "transient": {
            "deleting": false
          }
        }
      },
      "outputs": [
        {
          "name": "stdout",
          "output_type": "stream",
          "text": [
            "[[548  99 157  89  84  13]\n",
            " [ 91 696  49 162  31  11]\n",
            " [117  73 691  59  60  14]\n",
            " [ 66 163  50 644  33   4]\n",
            " [ 91  26  51  38 789  11]\n",
            " [ 15  16  13  24   7 372]]\n",
            "              precision    recall  f1-score   support\n",
            "\n",
            "    business       0.59      0.55      0.57       990\n",
            "      health       0.65      0.67      0.66      1040\n",
            "   marketing       0.68      0.68      0.68      1014\n",
            "    politics       0.63      0.67      0.65       960\n",
            " programming       0.79      0.78      0.79      1006\n",
            "      sports       0.88      0.83      0.85       447\n",
            "\n",
            "    accuracy                           0.69      5457\n",
            "   macro avg       0.70      0.70      0.70      5457\n",
            "weighted avg       0.69      0.69      0.69      5457\n",
            "\n"
          ]
        }
      ],
      "source": [
        "# Load the CSV file into a Pandas dataframe\n",
        "df = pd.read_csv('dev\\PreProcessing\\medium_ML_final_sampled_id.csv.csv')\n",
        "\n",
        "# Split the dataset into training and test sets\n",
        "X_train, X_test, y_train, y_test = train_test_split(df['stemmed_text'], df['category'], test_size=0.2, random_state=42)\n",
        "\n",
        "# Vectorize the text using TF-IDF\n",
        "vectorizer = TfidfVectorizer()\n",
        "X_train = vectorizer.fit_transform(X_train)\n",
        "X_test = vectorizer.transform(X_test)\n",
        "\n",
        "# Train a linear SVM model\n",
        "svm = LinearSVC()\n",
        "svm.fit(X_train, y_train)\n",
        "\n",
        "# Make predictions on the test set and calculate evaluation metrics\n",
        "y_pred = svm.predict(X_test)\n",
        "print(confusion_matrix(y_test, y_pred))\n",
        "print(classification_report(y_test, y_pred))"
      ]
    },
    {
      "cell_type": "markdown",
      "metadata": {
        "nteract": {
          "transient": {
            "deleting": false
          }
        }
      },
      "source": [
        "Now we have the accuracy around 0.69 which is not bad, but still it will be possible to increase the accuracy using more advanced models"
      ]
    },
    {
      "cell_type": "markdown",
      "metadata": {
        "nteract": {
          "transient": {
            "deleting": false
          }
        }
      },
      "source": [
        "Plotting the confusion matrix"
      ]
    },
    {
      "cell_type": "code",
      "execution_count": 5,
      "metadata": {
        "gather": {
          "logged": 1680548302514
        },
        "jupyter": {
          "outputs_hidden": false,
          "source_hidden": false
        },
        "nteract": {
          "transient": {
            "deleting": false
          }
        }
      },
      "outputs": [
        {
          "data": {
            "image/png": "[encoded data removed]",
            "text/plain": [
              "<Figure size 432x288 with 2 Axes>"
            ]
          },
          "metadata": {
            "needs_background": "light"
          },
          "output_type": "display_data"
        }
      ],
      "source": [
        "conf_mat = confusion_matrix(y_test, y_pred)\n",
        "\n",
        "# Create a list of category names\n",
        "category_names = [\"business\", \"entertainment\", \"health\", \"politics\", \"sport\", \"tech\"]\n",
        "\n",
        "# Create a heatmap plot of the confusion matrix with category names as labels\n",
        "sns.heatmap(conf_mat, annot=True, cmap='Blues', xticklabels=category_names, yticklabels=category_names)\n",
        "\n",
        "# Add plot labels and title\n",
        "plt.xlabel('Predicted')\n",
        "plt.ylabel('True')\n",
        "plt.title('Confusion Matrix')\n",
        "\n",
        "# Show the plot\n",
        "plt.show()\n"
      ]
    },
    {
      "cell_type": "markdown",
      "metadata": {
        "nteract": {
          "transient": {
            "deleting": false
          }
        }
      },
      "source": [
        "As we can see on the first look the color results for tech category seems not so intensive as for other categories, however they are quite accurate if we study distribution among tech => other classes relation. On the onther side there were some difficulties for our model to destinguish btw business, entertainment and politics categories. And it is understandable, bcs these categories are really close to each other. "
      ]
    },
    {
      "cell_type": "code",
      "execution_count": 6,
      "metadata": {
        "gather": {
          "logged": 1680548346322
        },
        "jupyter": {
          "outputs_hidden": false,
          "source_hidden": false
        },
        "nteract": {
          "transient": {
            "deleting": false
          }
        }
      },
      "outputs": [],
      "source": [
        "# Save the vectorizer to a file\n",
        "with open('svm_model.pkl', 'wb') as f:\n",
        "    pickle.dump(svm, f)"
      ]
    },
    {
      "cell_type": "code",
      "execution_count": 7,
      "metadata": {
        "gather": {
          "logged": 1680548350432
        },
        "jupyter": {
          "outputs_hidden": false,
          "source_hidden": false
        },
        "nteract": {
          "transient": {
            "deleting": false
          }
        }
      },
      "outputs": [],
      "source": [
        "# Save the vectorizer to a file\n",
        "with open('vectorizer.pkl', 'wb') as f:\n",
        "    pickle.dump(vectorizer, f)"
      ]
    },
    {
      "cell_type": "code",
      "execution_count": 8,
      "metadata": {
        "gather": {
          "logged": 1680548355421
        },
        "jupyter": {
          "outputs_hidden": false,
          "source_hidden": false
        },
        "nteract": {
          "transient": {
            "deleting": false
          }
        }
      },
      "outputs": [
        {
          "name": "stdout",
          "output_type": "stream",
          "text": [
            "The predicted category of the input text is: health\n"
          ]
        }
      ],
      "source": [
        "# Load the saved SVM model\n",
        "with open('svm_model.pkl', 'rb') as f:\n",
        "    svm_model = pickle.load(f)\n",
        "\n",
        "# Vectorize the input text using the saved vectorizer\n",
        "with open('vectorizer.pkl', 'rb') as f:\n",
        "    vectorizer = pickle.load(f)\n",
        "text = \"A healthy lifestyle is important for maintaining a strong body and mind. Good nutrition, regular exercise, and sufficient sleep are all essential components of a healthy lifestyle. Eating a balanced diet that is rich in fruits, vegetables, whole grains, and lean proteins can help you maintain a healthy weight and reduce your risk of chronic diseases such as heart disease and diabetes. Regular exercise can also help you manage stress and improve your mood. Make sure to get enough sleep each night, as sleep is crucial for overall health and well-being. By prioritizing your health and making healthy choices each day, you can live a long, happy, and healthy life.\"\n",
        "text_vectorized = vectorizer.transform([text])\n",
        "\n",
        "# Use the SVM model to predict the category of the input text\n",
        "predicted_category = svm_model.predict(text_vectorized)\n",
        "\n",
        "print(\"The predicted category of the input text is:\", predicted_category[0])"
      ]
    },
    {
      "cell_type": "markdown",
      "metadata": {
        "nteract": {
          "transient": {
            "deleting": false
          }
        }
      },
      "source": [
        "However, if we generate the text about \"business\" category there is a problem for our model to determine the correct categorty"
      ]
    },
    {
      "cell_type": "code",
      "execution_count": 9,
      "metadata": {
        "gather": {
          "logged": 1680548368939
        },
        "jupyter": {
          "outputs_hidden": false,
          "source_hidden": false
        },
        "nteract": {
          "transient": {
            "deleting": false
          }
        }
      },
      "outputs": [
        {
          "name": "stdout",
          "output_type": "stream",
          "text": [
            "The predicted category of the input text is: politics\n"
          ]
        }
      ],
      "source": [
        "text = \"As the global economy continues to recover from the impact of the COVID-19 pandemic, businesses are looking for new ways to grow and thrive in the post-pandemic world. With the rise of digital technologies and changing consumer preferences, companies must be agile and innovative to stay competitive. From leveraging data analytics to exploring new markets and partnerships, businesses must adapt quickly to meet the evolving needs of their customers. Those that can successfully navigate these challenges and seize new opportunities will be well-positioned for success in the years ahead.\"\n",
        "text_vectorized = vectorizer.transform([text])\n",
        "\n",
        "# Use the SVM model to predict the category of the input text\n",
        "predicted_category = svm_model.predict(text_vectorized)\n",
        "\n",
        "print(\"The predicted category of the input text is:\", predicted_category[0])"
      ]
    }
  ],
  "metadata": {
    "kernelspec": {
      "display_name": "Python 3.10 - SDK v2",
      "language": "python",
      "name": "python310-sdkv2"
    },
    "language_info": {
      "codemirror_mode": {
        "name": "ipython",
        "version": 3
      },
      "file_extension": ".py",
      "mimetype": "text/x-python",
      "name": "python",
      "nbconvert_exporter": "python",
      "pygments_lexer": "ipython3",
      "version": "3.10.9"
    },
    "microsoft": {
      "ms_spell_check": {
        "ms_spell_check_language": "en"
      }
    },
    "nteract": {
      "version": "nteract-front-end@1.0.0"
    }
  },
  "nbformat": 4,
  "nbformat_minor": 2
}
